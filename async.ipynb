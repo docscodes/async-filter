{
 "cells": [
  {
   "cell_type": "markdown",
   "metadata": {},
   "source": [
    "Sequential API calls"
   ]
  },
  {
   "cell_type": "code",
   "execution_count": 1,
   "metadata": {},
   "outputs": [],
   "source": [
    "import aiohttp\n",
    "import time\n",
    "import asyncio\n",
    "import requests"
   ]
  },
  {
   "cell_type": "code",
   "execution_count": 2,
   "metadata": {},
   "outputs": [],
   "source": [
    "URL = \"http://127.0.0.1:8000\"\n",
    "start = time.time ()\n",
    "results = []"
   ]
  },
  {
   "cell_type": "code",
   "execution_count": 3,
   "metadata": {},
   "outputs": [
    {
     "name": "stdout",
     "output_type": "stream",
     "text": [
      "Time: 18.214204788208008\n"
     ]
    }
   ],
   "source": [
    "for i in range(10):\n",
    "  results.append(requests.post(URL).content)\n",
    "print(f\"Time: {time.time()-start}\")"
   ]
  },
  {
   "cell_type": "markdown",
   "metadata": {},
   "source": [
    "Asynchronous API calls"
   ]
  },
  {
   "cell_type": "code",
   "execution_count": 4,
   "metadata": {},
   "outputs": [],
   "source": [
    "URLS = []\n",
    "\n",
    "for i in range ( 10 ):\n",
    "  URLS.append ( \"http://127.0.0.1:8000\" )\n",
    "  \n",
    "async def test ( URL ):\n",
    "  async with aiohttp.ClientSession () as session :\n",
    "    async with session.post ( URL ) as resp :\n",
    "      return await resp.text ()"
   ]
  },
  {
   "cell_type": "code",
   "execution_count": 5,
   "metadata": {},
   "outputs": [
    {
     "name": "stdout",
     "output_type": "stream",
     "text": [
      "Time: 0.016644001007080078 \n"
     ]
    }
   ],
   "source": [
    "start = time.time ()\n",
    "loop = asyncio.get_event_loop ()\n",
    "results = await asyncio.gather (*[ loop.create_task (test ( URL )) for URL in URLS ], return_exceptions = True )\n",
    "print(f\"Time: { time.time () - start } \" )"
   ]
  }
 ],
 "metadata": {
  "kernelspec": {
   "display_name": "base",
   "language": "python",
   "name": "python3"
  },
  "language_info": {
   "codemirror_mode": {
    "name": "ipython",
    "version": 3
   },
   "file_extension": ".py",
   "mimetype": "text/x-python",
   "name": "python",
   "nbconvert_exporter": "python",
   "pygments_lexer": "ipython3",
   "version": "3.12.4"
  }
 },
 "nbformat": 4,
 "nbformat_minor": 2
}
