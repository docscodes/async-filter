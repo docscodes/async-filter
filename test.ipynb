{
 "cells": [
  {
   "cell_type": "code",
   "execution_count": 16,
   "id": "bc90df5e",
   "metadata": {},
   "outputs": [
    {
     "data": {
      "text/plain": [
       "<bound method Response.raise_for_status of <Response [200]>>"
      ]
     },
     "execution_count": 16,
     "metadata": {},
     "output_type": "execute_result"
    }
   ],
   "source": [
    "import requests\n",
    "response = requests.post( \"http://127.0.0.1:8000/\" )\n",
    "response.raise_for_status"
   ]
  },
  {
   "cell_type": "code",
   "execution_count": 17,
   "id": "acf1b08e-011d-4ccb-b3aa-f5f5ca94d1a6",
   "metadata": {},
   "outputs": [
    {
     "data": {
      "text/plain": [
       "{'filters_available': ['blur',\n",
       "  'contour',\n",
       "  'detail',\n",
       "  'edge_enhance',\n",
       "  'edge_enhance_more',\n",
       "  'emboss',\n",
       "  'find_edges',\n",
       "  'sharpen',\n",
       "  'smooth',\n",
       "  'smooth_more'],\n",
       " 'usage': {'http_method': 'POST', 'URL': '/<filter_available>/'}}"
      ]
     },
     "execution_count": 17,
     "metadata": {},
     "output_type": "execute_result"
    }
   ],
   "source": [
    "import json\n",
    "json.loads(response.content.decode( \"utf-8\" ))"
   ]
  },
  {
   "cell_type": "code",
   "execution_count": 39,
   "id": "88e606fb-c7f5-483f-88ba-9a178e86ca64",
   "metadata": {},
   "outputs": [
    {
     "data": {
      "text/plain": [
       "<bound method Response.raise_for_status of <Response [200]>>"
      ]
     },
     "execution_count": 39,
     "metadata": {},
     "output_type": "execute_result"
    }
   ],
   "source": [
    "file = {\"images\": open(\"sample.jpg\", \"rb\")}\n",
    "headers = {\"type\": \"multipart/image\" }\n",
    "\n",
    "URL = \"http://127.0.0.1:8000\"\n",
    "filter = \"contour\"\n",
    "\n",
    "response = requests.post(f\"{URL}/{filter}\", headers=headers, files=file)\n",
    "response.raise_for_status"
   ]
  },
  {
   "cell_type": "code",
   "execution_count": 40,
   "id": "d46adf07-f8c0-4430-97ea-dd5a821369c3",
   "metadata": {},
   "outputs": [],
   "source": [
    "from PIL import Image\n",
    "import io\n",
    "import zipfile\n",
    "\n",
    "check = zipfile.is_zipfile(io.BytesIO(response.content))\n",
    "\n",
    "if check:\n",
    "  z = zipfile.ZipFile(io.BytesIO(response.content))\n",
    "  z.extractall()\n"
   ]
  }
 ],
 "metadata": {
  "kernelspec": {
   "display_name": "Python 3 (ipykernel)",
   "language": "python",
   "name": "python3"
  },
  "language_info": {
   "codemirror_mode": {
    "name": "ipython",
    "version": 3
   },
   "file_extension": ".py",
   "mimetype": "text/x-python",
   "name": "python",
   "nbconvert_exporter": "python",
   "pygments_lexer": "ipython3",
   "version": "3.12.4"
  }
 },
 "nbformat": 4,
 "nbformat_minor": 5
}
